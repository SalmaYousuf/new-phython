{
 "cells": [
  {
   "cell_type": "code",
   "execution_count": null,
   "id": "a895e36c-957d-45f1-ba6f-10577aac608a",
   "metadata": {},
   "outputs": [],
   "source": []
  }
 ],
 "metadata": {
  "kernelspec": {
   "display_name": "",
   "name": ""
  },
  "language_info": {
   "name": ""
  }
 },
 "nbformat": 4,
 "nbformat_minor": 5
}
