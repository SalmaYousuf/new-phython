{
 "cells": [
  {
   "cell_type": "code",
   "execution_count": null,
   "id": "fbf10bda-daa4-47cd-a13f-0141eb8fcc8e",
   "metadata": {},
   "outputs": [],
   "source": []
  }
 ],
 "metadata": {
  "kernelspec": {
   "display_name": "",
   "name": ""
  },
  "language_info": {
   "name": ""
  }
 },
 "nbformat": 4,
 "nbformat_minor": 5
}
